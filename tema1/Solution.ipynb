{
 "cells": [
  {
   "cell_type": "code",
   "execution_count": 1,
   "metadata": {},
   "outputs": [],
   "source": [
    "from pocket_cube.cube import Cube\n",
    "from pocket_cube.cube import Move\n",
    "from heapq import heappop, heappush\n",
    "from tests import *\n",
    "import matplotlib.pyplot as plt\n",
    "import numpy as np\n",
    "import numpy\n",
    "from random import choice\n",
    "from typing import Dict, List, Tuple\n",
    "import time\n",
    "import pickle\n",
    "import os\n",
    "\n",
    "\n",
    "%matplotlib ipympl"
   ]
  },
  {
   "cell_type": "code",
   "execution_count": 2,
   "metadata": {},
   "outputs": [],
   "source": [
    "# CONSTANTS\n",
    "\n",
    "ALL_MOVES = list(Move)\n",
    "DIRECT_MOVES = [Move.R, Move.U, Move.F]\n",
    "\n",
    "ALL_CASES = [case1, case2, case3, case4]"
   ]
  },
  {
   "cell_type": "code",
   "execution_count": 3,
   "metadata": {},
   "outputs": [],
   "source": [
    "\n",
    "def heuristic_1(cube: Cube):\n",
    "    \"\"\"Admissible heuristic for solving Cube. (Logically proved)\n",
    "\n",
    "\n",
    "    Args:\n",
    "        cube (Cube): Cube to calculate heuristic for.\n",
    "\n",
    "    Returns:\n",
    "        int: Estimated number of moves to reach goal.\n",
    "    \"\"\"\n",
    "    return sum(1 for x, goal in zip(cube.state, cube.goal_state) if x != goal) / 8\n"
   ]
  },
  {
   "cell_type": "code",
   "execution_count": null,
   "metadata": {},
   "outputs": [],
   "source": [
    "def test_heuristic_brute_force(heuristic, MAX_DISTANCE = 13) -> int:\n",
    "    \"\"\"Test if an heuristic is admissible by brute force checking most inputs\n",
    "    Uses DIRECT_MOVES as it is better than ALL_MOVES cause\n",
    "    we don't have as many useless cases (ex: U U' F F')\n",
    "    Args:\n",
    "        heuristic (function): heuristic to be tested\n",
    "        MAX_DISTANCE (int, optional): Maximum number of moves. Defaults to 13.\n",
    "\n",
    "    Returns:\n",
    "        int: number of unique cubes tested\n",
    "\n",
    "    Raises:\n",
    "        AssertionError: heuristic not admissible\n",
    "    \"\"\"\n",
    "    cube = Cube(scrambled=False)\n",
    "\n",
    "    queue = [cube]\n",
    "    min_distance = {}\n",
    "    for distance in range(1, MAX_DISTANCE):\n",
    "        for _ in range(3 ** (distance - 1)):\n",
    "            init = queue.pop(0)\n",
    "            for m in DIRECT_MOVES:\n",
    "                new_cube = init.move(m)\n",
    "                queue.append(new_cube)\n",
    "                if new_cube.hash() not in min_distance:\n",
    "                    min_distance[new_cube.hash()] = distance\n",
    "                assert heuristic(new_cube) <= min_distance[new_cube.hash()]\n",
    "    return len(min_distance)"
   ]
  },
  {
   "cell_type": "code",
   "execution_count": null,
   "metadata": {},
   "outputs": [],
   "source": [
    "# Test the heuristics\n",
    "# As the max value of 1st and 2nd heuristic are 3 and 4, 13 moves\n",
    "# are more than enough\n",
    "# 251796 possibles cubes should have been tested\n",
    "test_heuristic_brute_force(heuristic_1)\n"
   ]
  },
  {
   "cell_type": "code",
   "execution_count": null,
   "metadata": {},
   "outputs": [],
   "source": [
    "def test_heuristic_random_inputs(heuristic, TRIES=25000) -> int:\n",
    "    \"\"\"Test if an heuristic is admissible by brute force checking most inputs.\n",
    "    Uses both ALL_MOVES and DIRECT_MOVES\n",
    "\n",
    "    Args:\n",
    "        heuristic (function): heuristic to be tested\n",
    "        TRIES (int, optional): Number of tries per distance. Defaults to 25000.\n",
    "\n",
    "    Returns:\n",
    "        int: worse case tested (no. of faces)\n",
    "\n",
    "    Raises:\n",
    "        AssertionError: heuristic not admissible\n",
    "    \"\"\"\n",
    "    cube = Cube(scrambled=False)\n",
    "\n",
    "    worst_case = 0\n",
    "    for distance in range(1, 25):\n",
    "        for l in (ALL_MOVES, DIRECT_MOVES):\n",
    "            for _ in range(TRIES):\n",
    "                moves = numpy.random.choice(l, size=distance)\n",
    "                new_cube = cube.move(moves.tolist())\n",
    "                assert heuristic(new_cube) <= distance\n",
    "                wrong_faces = sum(\n",
    "                    1\n",
    "                    for x, goal in zip(new_cube.state, new_cube.goal_state)\n",
    "                    if x != goal\n",
    "                )\n",
    "\n",
    "                if wrong_faces > worst_case:\n",
    "                    worst_case = wrong_faces\n",
    "    return worst_case"
   ]
  },
  {
   "cell_type": "code",
   "execution_count": null,
   "metadata": {},
   "outputs": [],
   "source": [
    "# Test the heuristics on random inputs\n",
    "# I wanted to test for a cube with 24 wrong faces\n",
    "# But I could not one set of moves to take me there.\n",
    "# The third heuristic is not admissible\n",
    "# Worst case should be 23 faces\n",
    "test_heuristic_random_inputs(heuristic_1)\n"
   ]
  },
  {
   "cell_type": "code",
   "execution_count": 4,
   "metadata": {},
   "outputs": [],
   "source": [
    "def test_algo(algorithm, cases, heuristics, verify_result = False, kwargs=None):\n",
    "    # Run and test every case and heuristic\n",
    "    TIMES = []\n",
    "    STATES = []\n",
    "    PATHS = []\n",
    "    for heuristic in heuristics:\n",
    "        if kwargs and \"heuristic\" in kwargs:\n",
    "            kwargs[\"heuristic\"] = heuristic\n",
    "        current_times = []\n",
    "        current_states = []\n",
    "        current_paths = []\n",
    "        for case in cases:\n",
    "            cube = Cube(case)\n",
    "            t_start = time.time()\n",
    "            if kwargs is None:\n",
    "                path, states = algorithm(cube=cube)\n",
    "            else:\n",
    "                path, states = algorithm(cube=cube, **kwargs)\n",
    "            t_finish = time.time()\n",
    "\n",
    "            if verify_result:\n",
    "                reconstruct = cube.clone()\n",
    "                for m in path:\n",
    "                    reconstruct = reconstruct.move(m)\n",
    "                assert numpy.array_equal(reconstruct.state, cube.goal_state)\n",
    "\n",
    "            current_times.append(t_finish - t_start)\n",
    "            current_states.append(states)\n",
    "            current_paths.append(path)\n",
    "        TIMES.append(current_times)\n",
    "        STATES.append(current_states)\n",
    "        PATHS.append(current_paths)\n",
    "    return TIMES, STATES, PATHS"
   ]
  },
  {
   "cell_type": "code",
   "execution_count": null,
   "metadata": {},
   "outputs": [],
   "source": [
    "positions = {\n",
    "    0: (0, 1),\n",
    "    1: (1, 1),\n",
    "    2: (0, 0),\n",
    "    3: (1, 0),\n",
    "    4: (0 + 2, 1),\n",
    "    5: (1 + 2, 1),\n",
    "    6: (0 + 2, 0),\n",
    "    7: (1 + 2, 0),\n",
    "    8: (0 + 4, 1),\n",
    "    9: (1 + 4, 1),\n",
    "    10: (0 + 4, 0),\n",
    "    11: (1 + 4, 0),\n",
    "    12: (0 - 2, 1),\n",
    "    13: (1 - 2, 1),\n",
    "    14: (0 - 2, 0),\n",
    "    15: (1 - 2, 0),\n",
    "    16: (0, 1 + 2),\n",
    "    17: (1, 1 + 2),\n",
    "    18: (0, 0 + 2),\n",
    "    19: (1, 0 + 2),\n",
    "    20: (0, 1 - 2),\n",
    "    21: (1, 1 - 2),\n",
    "    22: (0, 0 - 2),\n",
    "    23: (1, 0 - 2),\n",
    "}\n",
    "\n",
    "def distance_heuristic(cube: Cube) -> int:\n",
    "    base_coords = np.array([(0, 1), (1, 1), (0, 0), (1, 0)])\n",
    "    offsets = np.array([[0, 0], [1, 0], [2, 0], [-1, 0], [0, 1], [0, -1]]) * 2\n",
    "\n",
    "    idx = 0\n",
    "    sum = 0\n",
    "    for i, x in enumerate(cube.state):\n",
    "        if x != cube.goal_state[i]:\n",
    "            idx = 4 * x\n",
    "            while cube.state[idx] != cube.goal_state[idx + 1]:\n",
    "                idx+=1\n",
    "            p1 = positions[4 * x]\n",
    "            p2 = positions[idx]\n",
    "            sum += abs(p1[0] - p2[0]) + abs(p1[1] - p2[1])\n",
    "    return sum\n"
   ]
  },
  {
   "cell_type": "code",
   "execution_count": 5,
   "metadata": {},
   "outputs": [],
   "source": [
    "def construct_road_astar(cube: Cube, road: Dict[str, Tuple[Cube, int, Move]]) -> List:\n",
    "    \"\"\"Construct the result path for A*\n",
    "\n",
    "    Args:\n",
    "        cube (Cube): End solved cubed\n",
    "        road (Dict[str, Tuple[Cube, int, Move]]): Dictionary of nodes\n",
    "\n",
    "    Returns:\n",
    "        List: Path to solve the cube\n",
    "    \"\"\"\n",
    "    p, _, m = road[cube.hash()]\n",
    "    path = []\n",
    "    while m:\n",
    "        path.append(m)\n",
    "        p, _, m = road[p.hash()]\n",
    "    path.reverse()\n",
    "    return path\n",
    "\n",
    "def astar(cube: Cube, heuristic) -> Tuple[List, int]:\n",
    "    \"\"\"A* algorithm to solve a cube\n",
    "\n",
    "    Args:\n",
    "        cube (Cube): Input cube\n",
    "        h (function): Heuristic function to use\n",
    "\n",
    "    Returns:\n",
    "        Tuple(List, int): The path and the number of states\n",
    "    \"\"\"\n",
    "\n",
    "    # Priority queue: (COST, HASH, CUBE)\n",
    "    frontier = []\n",
    "    heappush(frontier, (0 + heuristic(cube), cube.hash(), cube.clone()))\n",
    "    # Road as dict of  node -> (parent, cost, move)\n",
    "    road = {cube.hash(): (None, 0, None)}\n",
    "    no_states = 0\n",
    "    curr_cube: Cube\n",
    "\n",
    "    # While unexplored nodes\n",
    "    while frontier:\n",
    "        # Take current cube\n",
    "        _, _, curr_cube = heappop(frontier)\n",
    "        no_states += 1\n",
    "        c = road[curr_cube.hash()][1]\n",
    "\n",
    "        # If solution was found, return result\n",
    "        if numpy.array_equal(curr_cube.state, curr_cube.goal_state):\n",
    "            return construct_road_astar(curr_cube, road), no_states\n",
    "\n",
    "        # Create new node for every new possible cube\n",
    "        for m in Move:\n",
    "            tentative_cube = curr_cube.move(m)\n",
    "            tentative_cube_hash = tentative_cube.hash()\n",
    "            tentative = heuristic(tentative_cube)\n",
    "\n",
    "            if tentative_cube_hash not in road:\n",
    "                heappush(frontier, (c + 1 + tentative, tentative_cube_hash, tentative_cube))\n",
    "                road[tentative_cube_hash] = (curr_cube, c + 1, m)\n",
    "\n",
    "    return [], no_states"
   ]
  },
  {
   "cell_type": "code",
   "execution_count": 6,
   "metadata": {},
   "outputs": [],
   "source": [
    "# Run A*\n",
    "cube = Cube(case3)\n",
    "path, astar_states = astar(cube, heuristic_1)"
   ]
  },
  {
   "cell_type": "code",
   "execution_count": 7,
   "metadata": {},
   "outputs": [
    {
     "name": "stdout",
     "output_type": "stream",
     "text": [
      "17881\n"
     ]
    },
    {
     "data": {
      "application/vnd.jupyter.widget-view+json": {
       "model_id": "fd01521a2cb54c209da67aac64cba6fb",
       "version_major": 2,
       "version_minor": 0
      },
      "image/png": "[encoded data removed]",
      "text/html": [
       "\n",
       "            <div style=\"display: inline-block;\">\n",
       "                <div class=\"jupyter-widgets widget-label\" style=\"text-align: center;\">\n",
       "                    Figure\n",
       "                </div>\n",
       "                <img src='data:image/png;base64,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' width=700.0/>\n",
       "            </div>\n",
       "        "
      ],
      "text/plain": [
       "Canvas(toolbar=Toolbar(toolitems=[('Home', 'Reset original view', 'home', 'home'), ('Back', 'Back to previous …"
      ]
     },
     "metadata": {},
     "output_type": "display_data"
    }
   ],
   "source": [
    "# Verify A*\n",
    "assert path is not None\n",
    "\n",
    "reconstruct = cube.clone()\n",
    "for m in path:\n",
    "    reconstruct = reconstruct.move(m)\n",
    "plt.close(\"all\")\n",
    "print(astar_states)\n",
    "reconstruct.render()\n",
    "\n",
    "assert numpy.array_equal(reconstruct.state, cube.goal_state)"
   ]
  },
  {
   "cell_type": "code",
   "execution_count": 8,
   "metadata": {},
   "outputs": [
    {
     "name": "stdout",
     "output_type": "stream",
     "text": [
      "[[0.03672933578491211, 0.41899776458740234, 6.383136034011841, 75.11601305007935]]\n",
      "[[74, 1084, 17881, 213246]]\n",
      "[[[<Move.Up: 5>, <Move.F: 1>, <Move.R: 0>, <Move.U: 2>, <Move.Rp: 3>], [<Move.Rp: 3>, <Move.Up: 5>, <Move.Fp: 4>, <Move.R: 0>, <Move.F: 1>, <Move.Rp: 3>, <Move.F: 1>], [<Move.Rp: 3>, <Move.F: 1>, <Move.Rp: 3>, <Move.Rp: 3>, <Move.U: 2>, <Move.F: 1>, <Move.U: 2>, <Move.U: 2>, <Move.Fp: 4>], [<Move.R: 0>, <Move.Fp: 4>, <Move.R: 0>, <Move.Fp: 4>, <Move.Fp: 4>, <Move.Up: 5>, <Move.F: 1>, <Move.U: 2>, <Move.U: 2>, <Move.F: 1>, <Move.Up: 5>]]]\n"
     ]
    }
   ],
   "source": [
    "# Run and test every case and heuristic for A*\n",
    "\n",
    "# Check if the file exists\n",
    "if os.path.exists('astar_data.pkl'):\n",
    "    # Load the variables\n",
    "    with open('astar_data.pkl', 'rb') as f:\n",
    "        ASTAR_TIMES_PDB, ASTAR_STATES_PDB, ASTAR_PATHS_PDB = pickle.load(f)\n",
    "else:\n",
    "    # Run and test every case and heuristic for A*\n",
    "    ASTAR_TIMES_PDB, ASTAR_STATES_PDB, ASTAR_PATHS_PDB = test_algo(astar, ALL_CASES, [heuristic_1], True, {\"heuristic\": None})\n",
    "\n",
    "    # Save the variables\n",
    "    with open('astar_data.pkl', 'wb') as f:\n",
    "        pickle.dump((ASTAR_TIMES_PDB, ASTAR_STATES_PDB, ASTAR_PATHS_PDB), f)\n",
    "\n",
    "print(ASTAR_TIMES_PDB)\n",
    "print(ASTAR_STATES_PDB)\n",
    "print(ASTAR_PATHS_PDB)"
   ]
  },
  {
   "cell_type": "code",
   "execution_count": 9,
   "metadata": {},
   "outputs": [],
   "source": [
    "def construct_road_bfs(\n",
    "    common_state: Cube,\n",
    "    road_to_common_state: Dict[str, Tuple[Cube, Move]],\n",
    "    road_to_end: Dict[str, Tuple[Cube, Move]],\n",
    ") -> List:\n",
    "    # Create the road from input to common state\n",
    "    p1, m1 = road_to_common_state[common_state.hash()]\n",
    "    road = []\n",
    "    while m1:\n",
    "        road.append(m1)\n",
    "        p1, m1 = road_to_common_state[p1.hash()]\n",
    "    road.reverse()\n",
    "\n",
    "    # Create the road from common state to input\n",
    "    p2, m2 = road_to_end[common_state.hash()]\n",
    "    road_rev = []\n",
    "    while m2:\n",
    "        road_rev.append(m2.opposite())\n",
    "        p2, m2 = road_to_end[p2.hash()]\n",
    "\n",
    "    return road + road_rev\n",
    "\n",
    "\n",
    "def bfs_bidirectional(cube: Cube) -> Tuple[List, int]:\n",
    "    curr_cube: Cube\n",
    "    curr_cube_reversed: Cube\n",
    "\n",
    "    direction = 1\n",
    "    cube = cube.clone()\n",
    "    queue = [cube]\n",
    "    discovered = {cube.hash(): (0, cube)}\n",
    "    road = {cube.hash(): (None, None)}\n",
    "\n",
    "    cube_reversed = cube.clone()\n",
    "    aux = cube_reversed.state\n",
    "    cube_reversed.state = cube_reversed.goal_state\n",
    "    cube_reversed.goal_state = aux\n",
    "    queue_reverse = [cube_reversed]\n",
    "\n",
    "    discovered_reversed = {cube_reversed.hash(): (0, cube_reversed)}\n",
    "    reversed_road = {cube_reversed.hash(): (None, None)}\n",
    "\n",
    "    no_states = 0\n",
    "    while queue and queue_reverse:\n",
    "        if direction:\n",
    "            curr_cube = queue.pop(0)\n",
    "            no_states += 1\n",
    "\n",
    "            _, common_cube = discovered_reversed.get(cube.hash(), (0, None))\n",
    "            c, _ = discovered[curr_cube.hash()]\n",
    "\n",
    "            if common_cube:\n",
    "                return construct_road_bfs(common_cube, road, reversed_road), no_states\n",
    "\n",
    "            for m in Move:\n",
    "                tentative_cube = curr_cube.move(m)\n",
    "                tentative_cube_hash = tentative_cube.hash()\n",
    "                if discovered.get(tentative_cube_hash, None) is None:\n",
    "                    queue.append(tentative_cube)\n",
    "                    discovered[tentative_cube_hash] = (c + 1, tentative_cube)\n",
    "                    road[tentative_cube_hash] = (curr_cube, m)\n",
    "        else:\n",
    "            curr_cube_reversed = queue_reverse.pop(0)\n",
    "            no_states += 1\n",
    "\n",
    "            _, common_cube = discovered.get(curr_cube_reversed.hash(), (False, None))\n",
    "            c, _ = discovered_reversed[curr_cube_reversed.hash()]\n",
    "\n",
    "            if common_cube:\n",
    "                return construct_road_bfs(common_cube, road, reversed_road), no_states\n",
    "\n",
    "            for m in Move:\n",
    "                tentative_cube = curr_cube_reversed.move(m)\n",
    "                tentative_cube.goal_state = curr_cube_reversed.goal_state\n",
    "                tentative_cube_hash = tentative_cube.hash()\n",
    "                if discovered_reversed.get(tentative_cube_hash, None) is None:\n",
    "                    queue_reverse.append(tentative_cube)\n",
    "                    discovered_reversed[tentative_cube_hash] = (c + 1, tentative_cube)\n",
    "                    reversed_road[tentative_cube_hash] = (curr_cube_reversed, m)\n",
    "\n",
    "        direction = direction ^ 1\n",
    "    return [], no_states"
   ]
  },
  {
   "cell_type": "code",
   "execution_count": 10,
   "metadata": {},
   "outputs": [],
   "source": [
    "# Run BFS\n",
    "cube = Cube(case3)\n",
    "road, bfs_no_states = bfs_bidirectional(cube)"
   ]
  },
  {
   "cell_type": "code",
   "execution_count": 11,
   "metadata": {},
   "outputs": [
    {
     "name": "stdout",
     "output_type": "stream",
     "text": [
      "1016\n"
     ]
    },
    {
     "data": {
      "application/vnd.jupyter.widget-view+json": {
       "model_id": "24117241105e473fa5e611844ba84ab2",
       "version_major": 2,
       "version_minor": 0
      },
      "image/png": "[encoded data removed]",
      "text/html": [
       "\n",
       "            <div style=\"display: inline-block;\">\n",
       "                <div class=\"jupyter-widgets widget-label\" style=\"text-align: center;\">\n",
       "                    Figure\n",
       "                </div>\n",
       "                <img src='data:image/png;base64,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' width=700.0/>\n",
       "            </div>\n",
       "        "
      ],
      "text/plain": [
       "Canvas(toolbar=Toolbar(toolitems=[('Home', 'Reset original view', 'home', 'home'), ('Back', 'Back to previous …"
      ]
     },
     "metadata": {},
     "output_type": "display_data"
    }
   ],
   "source": [
    "# Verify BFS\n",
    "\n",
    "# Test road from input to end\n",
    "reconstruct = cube.clone()\n",
    "for m in road:\n",
    "    reconstruct = reconstruct.move(m)\n",
    "plt.close(\"all\")\n",
    "print(bfs_no_states)\n",
    "reconstruct.render()\n",
    "\n",
    "assert numpy.array_equal(reconstruct.state, cube.goal_state)"
   ]
  },
  {
   "cell_type": "code",
   "execution_count": 12,
   "metadata": {},
   "outputs": [
    {
     "name": "stdout",
     "output_type": "stream",
     "text": [
      "[[0.04554176330566406, 0.09410834312438965, 0.2888069152832031, 1.1129271984100342]]\n",
      "[[110, 242, 1016, 3880]]\n",
      "[[[<Move.Up: 5>, <Move.F: 1>, <Move.R: 0>, <Move.U: 2>, <Move.Rp: 3>], [<Move.U: 2>, <Move.F: 1>, <Move.Up: 5>, <Move.Rp: 3>, <Move.Up: 5>, <Move.Rp: 3>, <Move.F: 1>], [<Move.Rp: 3>, <Move.F: 1>, <Move.R: 0>, <Move.Up: 5>, <Move.Fp: 4>, <Move.Fp: 4>, <Move.U: 2>, <Move.F: 1>, <Move.R: 0>], [<Move.R: 0>, <Move.Fp: 4>, <Move.R: 0>, <Move.F: 1>, <Move.F: 1>, <Move.Up: 5>, <Move.F: 1>, <Move.Up: 5>, <Move.Up: 5>, <Move.F: 1>, <Move.Up: 5>]]]\n"
     ]
    }
   ],
   "source": [
    "# Run and test every case and heuristic for BFS_BIDIRECTIONAL\n",
    "# BFS is so fast there is no point to save results to file\n",
    "BFS_TIMES, BFS_STATES, BFS_PATHS = test_algo(bfs_bidirectional, ALL_CASES, [None], True)\n",
    "\n",
    "print(BFS_TIMES)\n",
    "print(BFS_STATES)\n",
    "print(BFS_PATHS)"
   ]
  },
  {
   "cell_type": "code",
   "execution_count": 48,
   "metadata": {},
   "outputs": [],
   "source": [
    "def big_faces_heuristic(cube: Cube) -> int:\n",
    "    wrong_faces = sum(1 for x, goal in zip(cube.state, cube.goal_state) if x != goal)\n",
    "\n",
    "    if wrong_faces == 8:\n",
    "        return 1\n",
    "    if wrong_faces == 15:\n",
    "        return 3\n",
    "    if wrong_faces < 8:\n",
    "        return 2\n",
    "    return wrong_faces / 1.7"
   ]
  },
  {
   "cell_type": "code",
   "execution_count": 14,
   "metadata": {},
   "outputs": [
    {
     "data": {
      "text/plain": [
       "0"
      ]
     },
     "execution_count": 14,
     "metadata": {},
     "output_type": "execute_result"
    }
   ],
   "source": [
    "cube = Cube(scrambled=False)\n",
    "sum(1 for x, goal in zip(cube.state, cube.goal_state) if x != goal)"
   ]
  },
  {
   "cell_type": "code",
   "execution_count": 15,
   "metadata": {},
   "outputs": [],
   "source": [
    "from math import log, sqrt\n",
    "\n",
    "class Node:\n",
    "    def __init__(self, cube: Cube, parent=None, parent_action=None):\n",
    "        self.cube = cube\n",
    "        self.state = cube.state\n",
    "        self.goal_state = cube.goal_state\n",
    "        self.parent = parent\n",
    "        self.parent_action = parent_action\n",
    "        self.children = []\n",
    "        self._number_of_visits = 0\n",
    "        self._rewards = 0\n",
    "        self._untried_actions = list(Move)\n",
    "        self._tried_actions = []\n",
    "        return\n",
    "\n",
    "    def is_fully_expanded(self):\n",
    "        # Check if all possible moves have been tried\n",
    "        return len(self._untried_actions) == 0\n",
    "\n",
    "    def is_final(self):\n",
    "        return numpy.array_equal(self.state, self.goal_state)\n",
    "\n",
    "def select_move(\n",
    "    node: Node,\n",
    "    c,\n",
    ") -> Node:\n",
    "    max = 0\n",
    "    result = None\n",
    "    child: Node\n",
    "    for child in node.children:\n",
    "        ucb = child._rewards / child._number_of_visits + c * sqrt(2 *\n",
    "            log(node._number_of_visits) / child._number_of_visits\n",
    "        )\n",
    "        if ucb > max:\n",
    "            max = ucb\n",
    "            result = child\n",
    "\n",
    "    return result\n",
    "\n",
    "def construct_road_monte_carlo(node: Node) -> List:\n",
    "    path = []\n",
    "    while node.parent_action:\n",
    "        path.append(node.parent_action)\n",
    "        node = node.parent\n",
    "    path.reverse()\n",
    "    return path\n",
    "\n",
    "def monte_carlo(cube: Cube, budget: int, C: float, heuristic) -> Cube:\n",
    "    tree = Node(cube)\n",
    "\n",
    "    for i in range(budget):\n",
    "        # Start from root\n",
    "        node = tree\n",
    "\n",
    "        # SELECTION\n",
    "        # Go down the tree until leaf or not fully expanded node\n",
    "        while not node.is_final() and node.is_fully_expanded():\n",
    "            node = select_move(node, C)\n",
    "\n",
    "        # Return the first solution found\n",
    "        if node.is_final():\n",
    "            return construct_road_monte_carlo(node), i\n",
    "\n",
    "        # EXPANSION\n",
    "        # Create new node\n",
    "        if not node.is_final():\n",
    "            move = choice(node._untried_actions)\n",
    "            node._untried_actions.remove(move)\n",
    "            node._tried_actions.append(move)\n",
    "            new_cube = node.cube.move(move)\n",
    "\n",
    "            child = Node(new_cube, node, move)\n",
    "            node.children.append(child)\n",
    "            node = child\n",
    "\n",
    "        # If the new node is a solution, return it\n",
    "        if node.is_final():\n",
    "            return construct_road_monte_carlo(node), i\n",
    "\n",
    "        # ROLLOUT\n",
    "        # Simulate game until timeout or solution\n",
    "        timeout = 14\n",
    "        curr_cube = node.cube.clone()\n",
    "        best_found = heuristic(curr_cube)\n",
    "        while not numpy.array_equal(curr_cube.state, curr_cube.goal_state) and timeout > 0:\n",
    "            curr_cube = curr_cube.move(choice(ALL_MOVES))\n",
    "            tentative = heuristic(curr_cube)\n",
    "            # Select best\n",
    "            if tentative < best_found:\n",
    "                best_found = tentative\n",
    "            timeout -= 1\n",
    "\n",
    "        best_found = 14 - best_found\n",
    "        reward = 0.1 * best_found\n",
    "        # Back propagation\n",
    "        while node is not None:\n",
    "            node._number_of_visits += 1\n",
    "            node._rewards += reward\n",
    "            node = node.parent\n",
    "\n",
    "    return [], budget"
   ]
  },
  {
   "cell_type": "code",
   "execution_count": 54,
   "metadata": {},
   "outputs": [],
   "source": [
    "# Run Monte Carlo\n",
    "cube = Cube(case2)\n",
    "monte_carlo_path, monte_no_states = monte_carlo(cube, 20000, 0.5, big_faces_heuristic)"
   ]
  },
  {
   "cell_type": "code",
   "execution_count": 55,
   "metadata": {},
   "outputs": [
    {
     "name": "stdout",
     "output_type": "stream",
     "text": [
      "6876\n"
     ]
    },
    {
     "data": {
      "application/vnd.jupyter.widget-view+json": {
       "model_id": "ec4dc4c152ce4f14a2421e5ce47a7f3f",
       "version_major": 2,
       "version_minor": 0
      },
      "image/png": "[encoded data removed]",
      "text/html": [
       "\n",
       "            <div style=\"display: inline-block;\">\n",
       "                <div class=\"jupyter-widgets widget-label\" style=\"text-align: center;\">\n",
       "                    Figure\n",
       "                </div>\n",
       "                <img src='data:image/png;base64,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' width=700.0/>\n",
       "            </div>\n",
       "        "
      ],
      "text/plain": [
       "Canvas(toolbar=Toolbar(toolitems=[('Home', 'Reset original view', 'home', 'home'), ('Back', 'Back to previous …"
      ]
     },
     "metadata": {},
     "output_type": "display_data"
    }
   ],
   "source": [
    "plt.close(\"all\")\n",
    "reconstruct = cube.clone()\n",
    "for move in monte_carlo_path:\n",
    "    reconstruct = reconstruct.move(move)\n",
    "print(monte_no_states)\n",
    "reconstruct.render()\n",
    "\n",
    "assert numpy.array_equal(reconstruct.state, cube.goal_state)"
   ]
  },
  {
   "cell_type": "code",
   "execution_count": 68,
   "metadata": {},
   "outputs": [],
   "source": [
    "def test_monte_carlo(heuristics):\n",
    "    if os.path.exists(\"mcts_data.pkl\"):\n",
    "        # Load the variables\n",
    "        with open(\"mcts_data.pkl\", \"rb\") as f:\n",
    "            (\n",
    "                MCTS_TIMES_ALL_BUDGETS,\n",
    "                MCTS_STATES_ALL_BUDGETS,\n",
    "                MCTS_PATHS_ALL_BUDGETS\n",
    "            ) = pickle.load(f)\n",
    "    else:\n",
    "        MCTS_TIMES_ALL_BUDGETS = {}\n",
    "        MCTS_STATES_ALL_BUDGETS = {}\n",
    "        MCTS_PATHS_ALL_BUDGETS = {}\n",
    "\n",
    "        for budget in [1000, 5000, 10000, 20000]:\n",
    "            for c in [0.5, 0.1]:\n",
    "                for _ in range(20):\n",
    "                    MCTS_TIMES, MCTS_STATES, MCTS_PATHS = test_algo(\n",
    "                        monte_carlo,\n",
    "                        ALL_CASES,\n",
    "                        [heuristic_1, big_faces_heuristic],\n",
    "                        False,\n",
    "                        {\n",
    "                            \"budget\": budget,\n",
    "                            \"C\": c,\n",
    "                            \"heuristic\": None,\n",
    "                        },\n",
    "                    )\n",
    "\n",
    "                    # Add MCTS_TIMES to previous value from dict\n",
    "                    if (budget, c) in MCTS_TIMES_ALL_BUDGETS:\n",
    "                        MCTS_TIMES_ALL_BUDGETS[(budget, c)] = [\n",
    "                            [a + b for a, b in zip(x, y)]\n",
    "                            for x, y in zip(MCTS_TIMES_ALL_BUDGETS[(budget, c)], MCTS_TIMES)\n",
    "                        ]\n",
    "                    else:\n",
    "                        MCTS_TIMES_ALL_BUDGETS[(budget, c)] = MCTS_TIMES\n",
    "\n",
    "                    # Add MCTS_STATES to previous value from dict\n",
    "                    if (budget, c) in MCTS_STATES_ALL_BUDGETS:\n",
    "                        MCTS_STATES_ALL_BUDGETS[(budget, c)] = [\n",
    "                            [a + b for a, b in zip(x, data)]\n",
    "                            for x, data in zip(MCTS_STATES_ALL_BUDGETS[(budget, c)], MCTS_STATES)\n",
    "                        ]\n",
    "                    else:\n",
    "                        MCTS_STATES_ALL_BUDGETS[(budget, c)] = MCTS_STATES\n",
    "\n",
    "                    # Add MCTS_PATHS to previous value from dict\n",
    "                    if (budget, c) in MCTS_PATHS_ALL_BUDGETS:\n",
    "                        MCTS_PATHS_ALL_BUDGETS[(budget, c)] = [\n",
    "                            [a + len(path) for a, path in zip(x, data)]\n",
    "                            for x, data in zip(MCTS_PATHS_ALL_BUDGETS[(budget, c)], MCTS_PATHS)\n",
    "                        ]\n",
    "                    else:\n",
    "                        MCTS_PATHS_ALL_BUDGETS[(budget, c)] = [[len(path) for path in data] for data in MCTS_PATHS]\n",
    "\n",
    "        # # Divide all values in MCTS_TIMES_ALL_BUDGETS by 20\n",
    "        for key in MCTS_TIMES_ALL_BUDGETS:\n",
    "            MCTS_TIMES_ALL_BUDGETS[key] = [[value / 20 for value in sublist] for sublist in MCTS_TIMES_ALL_BUDGETS[key]]\n",
    "\n",
    "        # # Divide all values in MCTS_STATES_ALL_BUDGETS by 20\n",
    "        for key in MCTS_STATES_ALL_BUDGETS:\n",
    "            MCTS_STATES_ALL_BUDGETS[key] = [[value / 20 for value in sublist] for sublist in MCTS_STATES_ALL_BUDGETS[key]]\n",
    "\n",
    "        # # Divide all values in MCTS_PATHS_ALL_BUDGETS by 20\n",
    "        for key in MCTS_PATHS_ALL_BUDGETS:\n",
    "            MCTS_PATHS_ALL_BUDGETS[key] = [[value / 20  for value in sublist] for sublist in MCTS_PATHS_ALL_BUDGETS[key]]\n",
    "\n",
    "        # Save the variables\n",
    "        with open(\"mcts_data.pkl\", \"wb\") as f:\n",
    "            pickle.dump(\n",
    "                (\n",
    "                    MCTS_TIMES_ALL_BUDGETS,\n",
    "                    MCTS_STATES_ALL_BUDGETS,\n",
    "                    MCTS_PATHS_ALL_BUDGETS\n",
    "                ),\n",
    "                f,\n",
    "            )\n",
    "    return MCTS_TIMES_ALL_BUDGETS, MCTS_STATES_ALL_BUDGETS, MCTS_PATHS_ALL_BUDGETS\n",
    "MCTS_TIMES_ALL_BUDGETS, MCTS_STATES_ALL_BUDGETS, MCTS_PATHS_ALL_BUDGETS = test_monte_carlo([heuristic_1, big_faces_heuristic])"
   ]
  },
  {
   "cell_type": "code",
   "execution_count": 70,
   "metadata": {},
   "outputs": [
    {
     "name": "stdout",
     "output_type": "stream",
     "text": [
      "{(1000, 0.5): [[1.101529598236084, 1.4538480043411255, 1.0038957595825195, 1.0217434167861938], [1.0172827243804932, 0.9371210336685181, 0.9277040958404541, 0.976563572883606]], (1000, 0.1): [[0.9681682586669922, 1.0235635042190552, 0.881967306137085, 0.9036380052566528], [0.8802758455276489, 0.9206265211105347, 1.01249361038208, 0.9365414381027222]], (5000, 0.5): [[1.9695568084716797, 4.485959529876709, 4.574558615684509, 4.396936058998108], [4.1282639503479, 3.2098538875579834, 4.288347244262695, 4.4685012102127075]], (5000, 0.1): [[2.965207576751709, 4.2794846296310425, 4.540251016616821, 4.367963075637817], [2.783794641494751, 2.6565855741500854, 4.686689376831055, 4.495305418968201]], (10000, 0.5): [[4.562123894691467, 8.643374681472778, 8.69305169582367, 8.641444444656372], [3.288083553314209, 5.995117545127869, 8.815496683120728, 8.826186656951904]], (10000, 0.1): [[0.9243267774581909, 7.188612341880798, 8.693355798721313, 8.580088019371033], [8.872786402702332, 4.843161702156067, 8.941651463508606, 9.036885023117065]], (20000, 0.5): [[3.633379340171814, 18.123255729675293, 18.284757494926453, 18.39680564403534], [4.461903095245361, 5.6568766832351685, 17.29432761669159, 17.904550075531006]], (20000, 0.1): [[2.0417792797088623, 8.48791217803955, 17.68965709209442, 18.349602699279785], [18.309669137001038, 9.962351083755493, 18.71834683418274, 19.873424887657166]]}\n",
      "{(1000, 0.5): [[2000, 2000, 2000, 2000], [2000, 2000, 2000, 2000]], (1000, 0.1): [[2000, 2000, 2000, 2000], [2000, 2000, 2000, 2000]], (5000, 0.5): [[4601, 10000, 10000, 10000], [9296, 7261, 10000, 10000]], (5000, 0.1): [[6858, 10000, 10000, 10000], [6154, 5337, 10000, 10000]], (10000, 0.5): [[10749, 20000, 20000, 20000], [7741, 13958, 20000, 20000]], (10000, 0.1): [[2174, 16754, 20000, 20000], [20000, 11003, 20000, 20000]], (20000, 0.5): [[8128, 40000, 40000, 40000], [10377, 13001, 40000, 40000]], (20000, 0.1): [[4811, 19495, 40000, 40000], [40000, 21981, 40000, 40000]]}\n",
      "{(1000, 0.5): [[0, 0, 0, 0], [0, 0, 0, 0]], (1000, 0.1): [[0, 0, 0, 0], [0, 0, 0, 0]], (5000, 0.5): [[10, 0, 0, 0], [5, 7, 0, 0]], (5000, 0.1): [[10, 0, 0, 0], [5, 7, 0, 0]], (10000, 0.5): [[10, 0, 0, 0], [10, 14, 0, 0]], (10000, 0.1): [[10, 7, 0, 0], [0, 7, 0, 0]], (20000, 0.5): [[10, 0, 0, 0], [10, 14, 0, 0]], (20000, 0.1): [[10, 14, 0, 0], [0, 9, 0, 0]]}\n"
     ]
    }
   ],
   "source": [
    "print(MCTS_TIMES_ALL_BUDGETS)\n",
    "print(MCTS_STATES_ALL_BUDGETS)\n",
    "print(MCTS_PATHS_ALL_BUDGETS)"
   ]
  },
  {
   "cell_type": "code",
   "execution_count": 59,
   "metadata": {},
   "outputs": [],
   "source": [
    "def create_pattern_database():\n",
    "    PATTERN_DATABASE = {}\n",
    "    cube = Cube(scrambled=False)\n",
    "    PATTERN_DATABASE[cube.hash()] = 0\n",
    "\n",
    "    queue = [cube]\n",
    "    for distance in range(1, 8):\n",
    "        for _ in range(6 ** (distance - 1)):\n",
    "            init = queue.pop(0)\n",
    "            for m in Move:\n",
    "                new_cube = init.move(m)\n",
    "                queue.append(new_cube)\n",
    "                if new_cube.hash() not in PATTERN_DATABASE:\n",
    "                    PATTERN_DATABASE[new_cube.hash()] = distance\n",
    "    return PATTERN_DATABASE"
   ]
  },
  {
   "cell_type": "code",
   "execution_count": 60,
   "metadata": {},
   "outputs": [],
   "source": [
    "PATTERN_DATABASE = create_pattern_database()"
   ]
  },
  {
   "cell_type": "code",
   "execution_count": 32,
   "metadata": {},
   "outputs": [],
   "source": [
    "def new_heuristic(cube: Cube):\n",
    "    return PATTERN_DATABASE.get(cube.hash(), heuristic_1(cube))\n",
    "\n",
    "def new_heuristic_alone(cube: Cube):\n",
    "    return PATTERN_DATABASE.get(cube.hash(), 14)"
   ]
  },
  {
   "cell_type": "code",
   "execution_count": 28,
   "metadata": {},
   "outputs": [],
   "source": [
    "# Test pattern database\n",
    "\n",
    "ALL_MOVES = list(Move)\n",
    "\n",
    "def test_new_heuristic(moves):\n",
    "    # Since we are using random moves, we might end up with a sequence\n",
    "    # That could be solved in less moves\n",
    "    assert new_heuristic(Cube(moves)) <= len(moves)\n",
    "\n",
    "for _ in range(1000):\n",
    "    for distance in range(1, 8):\n",
    "        moves = [choice(ALL_MOVES) for _ in range(distance)]\n",
    "        test_new_heuristic(moves)\n",
    "\n",
    "# Some static test cases\n",
    "assert new_heuristic(Cube('R U')) == 2\n",
    "assert new_heuristic(Cube('R U R')) == 3\n",
    "assert new_heuristic(Cube('R U F R U')) == 5"
   ]
  },
  {
   "cell_type": "code",
   "execution_count": 30,
   "metadata": {},
   "outputs": [],
   "source": [
    "# Run A* with PATTERN heuristic\n",
    "cube = Cube(case4)\n",
    "path, states = astar(cube, new_heuristic)"
   ]
  },
  {
   "cell_type": "code",
   "execution_count": 31,
   "metadata": {},
   "outputs": [
    {
     "data": {
      "application/vnd.jupyter.widget-view+json": {
       "model_id": "6a4a7dbec1e243b789381e5a21145ce7",
       "version_major": 2,
       "version_minor": 0
      },
      "image/png": "[encoded data removed]",
      "text/html": [
       "\n",
       "            <div style=\"display: inline-block;\">\n",
       "                <div class=\"jupyter-widgets widget-label\" style=\"text-align: center;\">\n",
       "                    Figure\n",
       "                </div>\n",
       "                <img src='data:image/png;base64,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' width=700.0/>\n",
       "            </div>\n",
       "        "
      ],
      "text/plain": [
       "Canvas(toolbar=Toolbar(toolitems=[('Home', 'Reset original view', 'home', 'home'), ('Back', 'Back to previous …"
      ]
     },
     "metadata": {},
     "output_type": "display_data"
    }
   ],
   "source": [
    "reconstruct = cube.clone()\n",
    "for m in path:\n",
    "    reconstruct = reconstruct.move(m)\n",
    "\n",
    "plt.close(\"all\")\n",
    "reconstruct.render()\n",
    "assert numpy.array_equal(reconstruct.state, cube.goal_state)"
   ]
  },
  {
   "cell_type": "code",
   "execution_count": 73,
   "metadata": {},
   "outputs": [
    {
     "name": "stdout",
     "output_type": "stream",
     "text": [
      "[[0.006008148193359375, 0.24791288375854492, 8.105004787445068, 100.31087327003479], [0.0033223628997802734, 0.0023779869079589844, 0.0029823780059814453, 0.02176809310913086]]\n",
      "[[6, 523, 18241, 226180], [6, 8, 10, 70]]\n",
      "[[[<Move.Up: 5>, <Move.F: 1>, <Move.R: 0>, <Move.U: 2>, <Move.Rp: 3>], [<Move.Rp: 3>, <Move.Up: 5>, <Move.Fp: 4>, <Move.R: 0>, <Move.F: 1>, <Move.Rp: 3>, <Move.F: 1>], [<Move.Rp: 3>, <Move.F: 1>, <Move.Rp: 3>, <Move.Rp: 3>, <Move.U: 2>, <Move.F: 1>, <Move.U: 2>, <Move.U: 2>, <Move.Fp: 4>], [<Move.U: 2>, <Move.F: 1>, <Move.Rp: 3>, <Move.F: 1>, <Move.Rp: 3>, <Move.Fp: 4>, <Move.R: 0>, <Move.Up: 5>, <Move.F: 1>, <Move.R: 0>, <Move.F: 1>]], [[<Move.Up: 5>, <Move.F: 1>, <Move.R: 0>, <Move.U: 2>, <Move.Rp: 3>], [<Move.Rp: 3>, <Move.Up: 5>, <Move.Fp: 4>, <Move.R: 0>, <Move.F: 1>, <Move.Rp: 3>, <Move.F: 1>], [<Move.U: 2>, <Move.R: 0>, <Move.U: 2>, <Move.Rp: 3>, <Move.Up: 5>, <Move.R: 0>, <Move.F: 1>, <Move.Up: 5>, <Move.Fp: 4>], [<Move.U: 2>, <Move.F: 1>, <Move.Rp: 3>, <Move.F: 1>, <Move.Rp: 3>, <Move.Fp: 4>, <Move.R: 0>, <Move.Up: 5>, <Move.F: 1>, <Move.R: 0>, <Move.F: 1>]]]\n"
     ]
    }
   ],
   "source": [
    "# Run and test every case and PATTER_DB heuristic for A*\n",
    "\n",
    "# Check if the file exists\n",
    "if os.path.exists(\"astar_data_pdb.pkl\"):\n",
    "    # Load the variables\n",
    "    with open(\"astar_data_pdb.pkl\", \"rb\") as f:\n",
    "        ASTAR_TIMES_PDB, ASTAR_STATES_PDB, ASTAR_PATHS_PDB = pickle.load(f)\n",
    "else:\n",
    "    # Run and test every case and heuristic for A*\n",
    "    ASTAR_TIMES_PDB, ASTAR_STATES_PDB, ASTAR_PATHS_PDB = test_algo(\n",
    "        astar, ALL_CASES, [new_heuristic, new_heuristic_alone], True, {\"heuristic\": None}\n",
    "    )\n",
    "\n",
    "    # Save the variables\n",
    "    with open(\"astar_data_pdb.pkl\", \"wb\") as f:\n",
    "        pickle.dump((ASTAR_TIMES_PDB, ASTAR_STATES_PDB, ASTAR_PATHS_PDB), f)\n",
    "\n",
    "print(ASTAR_TIMES_PDB)\n",
    "print(ASTAR_STATES_PDB)\n",
    "print(ASTAR_PATHS_PDB)"
   ]
  },
  {
   "cell_type": "code",
   "execution_count": 39,
   "metadata": {},
   "outputs": [],
   "source": [
    "plt.close(\"all\")\n",
    "\n",
    "# Run Monte Carlo\n",
    "cube = Cube(case2)\n",
    "monte_carlo_path, monte_no_states = monte_carlo(cube, 20000, 0.5, new_heuristic_alone)"
   ]
  },
  {
   "cell_type": "code",
   "execution_count": 40,
   "metadata": {},
   "outputs": [
    {
     "data": {
      "application/vnd.jupyter.widget-view+json": {
       "model_id": "ae828c40ade74275bf60e1453ca18318",
       "version_major": 2,
       "version_minor": 0
      },
      "image/png": "[encoded data removed]",
      "text/html": [
       "\n",
       "            <div style=\"display: inline-block;\">\n",
       "                <div class=\"jupyter-widgets widget-label\" style=\"text-align: center;\">\n",
       "                    Figure\n",
       "                </div>\n",
       "                <img src='data:image/png;base64,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' width=700.0/>\n",
       "            </div>\n",
       "        "
      ],
      "text/plain": [
       "Canvas(toolbar=Toolbar(toolitems=[('Home', 'Reset original view', 'home', 'home'), ('Back', 'Back to previous …"
      ]
     },
     "metadata": {},
     "output_type": "display_data"
    }
   ],
   "source": [
    "reconstruct = cube.clone()\n",
    "for m in monte_carlo_path:\n",
    "    reconstruct = reconstruct.move(m)\n",
    "\n",
    "plt.close(\"all\")\n",
    "reconstruct.render()\n",
    "assert numpy.array_equal(reconstruct.state, cube.goal_state)"
   ]
  }
 ],
 "metadata": {
  "kernelspec": {
   "display_name": "Python 3",
   "language": "python",
   "name": "python3"
  },
  "language_info": {
   "codemirror_mode": {
    "name": "ipython",
    "version": 3
   },
   "file_extension": ".py",
   "mimetype": "text/x-python",
   "name": "python",
   "nbconvert_exporter": "python",
   "pygments_lexer": "ipython3",
   "version": "3.10.12"
  }
 },
 "nbformat": 4,
 "nbformat_minor": 2
}
