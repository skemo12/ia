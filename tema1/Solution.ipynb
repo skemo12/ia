{
 "cells": [
  {
   "cell_type": "code",
   "execution_count": 13,
   "metadata": {},
   "outputs": [],
   "source": [
    "from pocket_cube.cube import Cube\n",
    "from pocket_cube.cube import Move\n",
    "from heapq import heappop, heappush\n",
    "from tests import *\n",
    "import matplotlib.pyplot as plt\n",
    "import numpy as np\n",
    "import numpy\n",
    "from random import choice\n",
    "from typing import Dict, List, Tuple\n",
    "\n",
    "%matplotlib ipympl"
   ]
  },
  {
   "cell_type": "code",
   "execution_count": 231,
   "metadata": {},
   "outputs": [],
   "source": [
    "CONST = 8\n",
    "def heuristic(cube: Cube) -> int:\n",
    "    sum = 0\n",
    "\n",
    "    for i, x in enumerate(cube.state):\n",
    "        if x != cube.goal_state[i]:\n",
    "            sum += 1\n",
    "    # return sum\n",
    "    # if sum == 0:\n",
    "    #     return 0\n",
    "    # if sum < 4:\n",
    "    #     return 3\n",
    "    # if sum == 8:\n",
    "    #     return 1\n",
    "    # return int(sum // 4)\n",
    "    # return int(sum // 5)\n",
    "    # return int(sum // 6.1) if sum < 16 else int(sum // 1.75) # BEST\n",
    "    # return int(sum // 5.5) if sum < 16 else int(sum // 1.75) # BEST\n",
    "    return int(sum // 5) if sum < 15 else int(sum // 1.7) # ABSOLUTE BEST\n",
    "    # return int(sum // 8) if sum < 16 else int(sum // 1.75)\n",
    "    # return int(sum // 6) if sum < 17 else int(sum // 3)\n",
    "    # return int(sum // 5.4) if sum < 17 else int(sum // 3)\n",
    "    # return int(sum // 5)\n",
    "    # return int(sum // 5.4)\n",
    "    # return int(sum // 5.5)"
   ]
  },
  {
   "cell_type": "code",
   "execution_count": 214,
   "metadata": {},
   "outputs": [
    {
     "data": {
      "text/plain": [
       "9"
      ]
     },
     "execution_count": 214,
     "metadata": {},
     "output_type": "execute_result"
    }
   ],
   "source": [
    "cube = Cube(scrambled=False)\n",
    "\n",
    "cube = cube.move(Move.F)\n",
    "cube =cube.move(Move.R)\n",
    "cube =cube.move(Move.U)\n",
    "cube =cube.move(Move.Fp)\n",
    "cube =cube.move(Move.U)\n",
    "cube =cube.move(Move.Fp)\n",
    "cube =cube.move(Move.Up)\n",
    "cube =cube.move(Move.F)\n",
    "cube =cube.move(Move.R)\n",
    "heuristic(cube)"
   ]
  },
  {
   "cell_type": "code",
   "execution_count": null,
   "metadata": {},
   "outputs": [],
   "source": [
    "\n",
    "positions = {\n",
    "    0: (0, 1),\n",
    "    1: (1, 1),\n",
    "    2: (0, 0),\n",
    "    3: (1, 0),\n",
    "    4: (0 + 2, 1),\n",
    "    5: (1 + 2, 1),\n",
    "    6: (0 + 2, 0),\n",
    "    7: (1 + 2, 0),\n",
    "    8: (0 + 4, 1),\n",
    "    9: (1 + 4, 1),\n",
    "    10: (0 + 4, 0),\n",
    "    11: (1 + 4, 0),\n",
    "    12: (0 - 2, 1),\n",
    "    13: (1 - 2, 1),\n",
    "    14: (0 - 2, 0),\n",
    "    15: (1 - 2, 0),\n",
    "    16: (0, 1 + 2),\n",
    "    17: (1, 1 + 2),\n",
    "    18: (0, 0 + 2),\n",
    "    19: (1, 0 + 2),\n",
    "    20: (0, 1 - 2),\n",
    "    21: (1, 1 - 2),\n",
    "    22: (0, 0 - 2),\n",
    "    23: (1, 0 - 2),\n",
    "}\n",
    "\n",
    "def distance_heuristic(cube: Cube) -> int:\n",
    "    base_coords = np.array([(0, 1), (1, 1), (0, 0), (1, 0)])\n",
    "    offsets = np.array([[0, 0], [1, 0], [2, 0], [-1, 0], [0, 1], [0, -1]]) * 2\n",
    "\n",
    "    idx = 0\n",
    "    sum = 0\n",
    "    for i, x in enumerate(cube.state):\n",
    "        if x != cube.goal_state[i]:\n",
    "            idx = 4 * x\n",
    "            while cube.state[idx] != cube.goal_state[idx + 1]:\n",
    "                idx+=1\n",
    "            p1 = positions[4 * x]\n",
    "            p2 = positions[idx]\n",
    "            sum += abs(p1[0] - p2[0]) + abs(p1[1] - p2[1])\n",
    "    return sum\n"
   ]
  },
  {
   "cell_type": "code",
   "execution_count": 54,
   "metadata": {},
   "outputs": [],
   "source": [
    "def construct_road_astar(cube: Cube, road: Dict[str, Tuple[Cube, int, Move]]) -> List:\n",
    "    p, _, m = road[cube.hash()]\n",
    "    path = []\n",
    "    while m:\n",
    "        path.append(m)\n",
    "        p, _, m = road[p.hash()]\n",
    "    path.reverse()\n",
    "    return path\n",
    "\n",
    "def astar(cube: Cube, h) -> List:\n",
    "    # Coada de prioritati: (COST, HASH, CUBE)\n",
    "    frontier = []\n",
    "    heappush(frontier, (0 + h(cube), cube.hash(), cube.clone()))\n",
    "    # Nodurile descoperite ca dictionar nod -> (parinte, cost)\n",
    "    # discovered = {cube.hash(): (None, 0)}\n",
    "    # Drumul ca dictionar  nod -> (parinte, cost, mutare)\n",
    "    road = {cube.hash(): (None, 0, None)}\n",
    "\n",
    "    curr_cube: Cube\n",
    "    while frontier:\n",
    "        _, _, curr_cube = heappop(frontier)\n",
    "        c = road[curr_cube.hash()][1]\n",
    "        if numpy.array_equal(curr_cube.state, curr_cube.goal_state):\n",
    "            return construct_road_astar(curr_cube, road)\n",
    "        for m in Move:\n",
    "            tentative_cube = curr_cube.move(m)\n",
    "            tentative_cube_hash = tentative_cube.hash()\n",
    "            tentative = h(tentative_cube)\n",
    "\n",
    "            if tentative_cube_hash not in road:\n",
    "                heappush(frontier, (c + 1 + tentative, tentative_cube_hash, tentative_cube))\n",
    "                road[tentative_cube_hash] = (curr_cube, c + 1, m)\n",
    "\n",
    "    return None"
   ]
  },
  {
   "cell_type": "code",
   "execution_count": 239,
   "metadata": {},
   "outputs": [],
   "source": [
    "# Run A*\n",
    "input = Cube(case3)\n",
    "reconstruct = input.clone()\n",
    "path = astar(input, heuristic)"
   ]
  },
  {
   "cell_type": "code",
   "execution_count": 240,
   "metadata": {},
   "outputs": [
    {
     "data": {
      "application/vnd.jupyter.widget-view+json": {
       "model_id": "63c156677f6c4440ac4493553118ed31",
       "version_major": 2,
       "version_minor": 0
      },
      "image/png": "[encoded data removed]",
      "text/html": [
       "\n",
       "            <div style=\"display: inline-block;\">\n",
       "                <div class=\"jupyter-widgets widget-label\" style=\"text-align: center;\">\n",
       "                    Figure\n",
       "                </div>\n",
       "                <img src='data:image/png;base64,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' width=700.0/>\n",
       "            </div>\n",
       "        "
      ],
      "text/plain": [
       "Canvas(toolbar=Toolbar(toolitems=[('Home', 'Reset original view', 'home', 'home'), ('Back', 'Back to previous …"
      ]
     },
     "metadata": {},
     "output_type": "display_data"
    }
   ],
   "source": [
    "# Verify A*\n",
    "assert path is not None\n",
    "for m in path:\n",
    "    reconstruct = reconstruct.move(m)\n",
    "plt.close(\"all\")\n",
    "reconstruct.render()\n",
    "\n",
    "assert numpy.array_equal(reconstruct.state, input.goal_state)"
   ]
  },
  {
   "cell_type": "code",
   "execution_count": 44,
   "metadata": {},
   "outputs": [],
   "source": [
    "def construct_road_bfs(\n",
    "    common_state: Cube,\n",
    "    road_to_common_state: Dict[str, Tuple[Cube, Move]],\n",
    "    road_to_end: Dict[str, Tuple[Cube, Move]],\n",
    ") -> List:\n",
    "    # Create the road from input to common state\n",
    "    p1, m1 = road_to_common_state[common_state.hash()]\n",
    "    road = []\n",
    "    while m1:\n",
    "        road.append(m1)\n",
    "        p1, m1 = road_to_common_state[p1.hash()]\n",
    "    road.reverse()\n",
    "\n",
    "    # Create the road from common state to input\n",
    "    p2, m2 = road_to_end[common_state.hash()]\n",
    "    road_rev = []\n",
    "    while m2:\n",
    "        road_rev.append(m2.opposite())\n",
    "        p2, m2 = road_to_end[p2.hash()]\n",
    "\n",
    "    return road + road_rev\n",
    "\n",
    "\n",
    "def bfs_bidirectional(cube: Cube) -> List:\n",
    "    curr_cube: Cube\n",
    "    curr_cube_reversed: Cube\n",
    "\n",
    "    direction = 1\n",
    "    cube = cube.clone()\n",
    "    queue = [cube]\n",
    "    discovered = {cube.hash(): (0, cube)}\n",
    "    road = {cube.hash(): (None, None)}\n",
    "\n",
    "    cube_reversed = cube.clone()\n",
    "    aux = cube_reversed.state\n",
    "    cube_reversed.state = cube_reversed.goal_state\n",
    "    cube_reversed.goal_state = aux\n",
    "    queue_reverse = [cube_reversed]\n",
    "\n",
    "    discovered_reversed = {cube_reversed.hash(): (0, cube_reversed)}\n",
    "    reversed_road = {cube_reversed.hash(): (None, None)}\n",
    "\n",
    "    while queue and queue_reverse:\n",
    "        if direction:\n",
    "            curr_cube = queue.pop(0)\n",
    "\n",
    "            if numpy.array_equal(curr_cube.state, curr_cube.goal_state):\n",
    "                return curr_cube, curr_cube_reversed, road, reversed_road\n",
    "\n",
    "            _, common_cube = discovered_reversed.get(cube.hash(), (0, None))\n",
    "            c, _ = discovered[curr_cube.hash()]\n",
    "\n",
    "            if common_cube:\n",
    "                return construct_road_bfs(common_cube, road, reversed_road)\n",
    "\n",
    "            for m in Move:\n",
    "                tentative_cube = curr_cube.move(m)\n",
    "                tentative_cube_hash = tentative_cube.hash()\n",
    "                if discovered.get(tentative_cube_hash, None) is None:\n",
    "                    queue.append(tentative_cube)\n",
    "                    discovered[tentative_cube_hash] = (c + 1, tentative_cube)\n",
    "                    road[tentative_cube_hash] = (curr_cube, m)\n",
    "        else:\n",
    "            curr_cube_reversed = queue_reverse.pop(0)\n",
    "            # curr_cube_reversed.render()\n",
    "            # print(curr_cube_reversed.state)\n",
    "            # print(curr_cube_reversed.goal_state)\n",
    "            if numpy.array_equal(\n",
    "                curr_cube_reversed.state, curr_cube_reversed.goal_state\n",
    "            ):\n",
    "                return curr_cube, curr_cube_reversed, road, reversed_road\n",
    "\n",
    "            _, common_cube = discovered.get(curr_cube_reversed.hash(), (False, None))\n",
    "            c, _ = discovered_reversed[curr_cube_reversed.hash()]\n",
    "\n",
    "            if common_cube:\n",
    "                return construct_road_bfs(common_cube, road, reversed_road)\n",
    "\n",
    "            for m in Move:\n",
    "                tentative_cube = curr_cube_reversed.move(m)\n",
    "                tentative_cube.goal_state = curr_cube_reversed.goal_state\n",
    "                tentative_cube_hash = tentative_cube.hash()\n",
    "                if discovered_reversed.get(tentative_cube_hash, None) is None:\n",
    "                    queue_reverse.append(tentative_cube)\n",
    "                    discovered_reversed[tentative_cube_hash] = (c + 1, tentative_cube)\n",
    "                    reversed_road[tentative_cube_hash] = (curr_cube_reversed, m)\n",
    "\n",
    "        direction = direction ^ 1"
   ]
  },
  {
   "cell_type": "code",
   "execution_count": 124,
   "metadata": {},
   "outputs": [],
   "source": [
    "input = Cube(case4)\n",
    "road = bfs_bidirectional(input)"
   ]
  },
  {
   "cell_type": "code",
   "execution_count": 125,
   "metadata": {},
   "outputs": [
    {
     "data": {
      "application/vnd.jupyter.widget-view+json": {
       "model_id": "156c89012dd64477b0351f5002ab18cb",
       "version_major": 2,
       "version_minor": 0
      },
      "image/png": "[encoded data removed]",
      "text/html": [
       "\n",
       "            <div style=\"display: inline-block;\">\n",
       "                <div class=\"jupyter-widgets widget-label\" style=\"text-align: center;\">\n",
       "                    Figure\n",
       "                </div>\n",
       "                <img src='data:image/png;base64,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' width=700.0/>\n",
       "            </div>\n",
       "        "
      ],
      "text/plain": [
       "Canvas(toolbar=Toolbar(toolitems=[('Home', 'Reset original view', 'home', 'home'), ('Back', 'Back to previous …"
      ]
     },
     "metadata": {},
     "output_type": "display_data"
    }
   ],
   "source": [
    "# Verify BFS\n",
    "\n",
    "# Test road from input to end\n",
    "reconstruct = input.clone()\n",
    "for m in road:\n",
    "    reconstruct = reconstruct.move(m)\n",
    "plt.close(\"all\")\n",
    "reconstruct.render()\n",
    "\n",
    "assert numpy.array_equal(reconstruct.state, input.goal_state)\n"
   ]
  },
  {
   "cell_type": "code",
   "execution_count": 244,
   "metadata": {},
   "outputs": [],
   "source": [
    "CONST = 8\n",
    "def another_heuristic(cube: Cube) -> int:\n",
    "    sum = 0\n",
    "\n",
    "    for i, x in enumerate(cube.state):\n",
    "        if x != cube.goal_state[i]:\n",
    "            sum += 1\n",
    "    # return sum\n",
    "    # if sum == 0:\n",
    "    #     return 0\n",
    "    # if sum < 4:\n",
    "    #     return 3\n",
    "    # if sum == 8:\n",
    "    #     return 1\n",
    "    return int(sum // 1.7)\n",
    "    # return int(sum // 5)\n",
    "    # return int(sum // 6.1) if sum < 16 else int(sum // 1.75) # BEST\n",
    "    # return int(sum // 5.5) if sum < 16 else int(sum // 1.75) # BEST\n",
    "    # return int(sum // 5) if sum < 15 else int(sum // 1.7) # ABSOLUTE BEST\n",
    "    # return int(sum // 8) if sum < 16 else int(sum // 1.75)\n",
    "    # return int(sum // 6) if sum < 17 else int(sum // 3)\n",
    "    # return int(sum // 5.4) if sum < 17 else int(sum // 3)\n",
    "    # return int(sum // 5)\n",
    "    # return int(sum // 5.4)\n",
    "    # return int(sum // 5.5)"
   ]
  },
  {
   "cell_type": "code",
   "execution_count": 241,
   "metadata": {},
   "outputs": [],
   "source": [
    "from math import log, sqrt\n",
    "\n",
    "class Node:\n",
    "    def __init__(self, cube: Cube, parent=None, parent_action=None):\n",
    "        self.cube = cube\n",
    "        self.state = cube.state\n",
    "        self.goal_state = cube.goal_state\n",
    "        self.parent = parent\n",
    "        self.parent_action = parent_action\n",
    "        self.children = []\n",
    "        self._number_of_visits = 0\n",
    "        self._rewards = 0\n",
    "        self._untried_actions = list(Move)\n",
    "        self._tried_actions = []\n",
    "        return\n",
    "\n",
    "    def is_fully_expanded(self):\n",
    "        # Check if all possible moves have been tried\n",
    "        return len(self._untried_actions) == 0\n",
    "\n",
    "    def is_final(self):\n",
    "        return numpy.array_equal(self.state, self.goal_state)\n",
    "\n",
    "def select_move(\n",
    "    node: Node,\n",
    "    c,\n",
    ") -> Node:\n",
    "    max = 0\n",
    "    result = None\n",
    "    child: Node\n",
    "    for child in node.children:\n",
    "\n",
    "        parent: Node = child.parent\n",
    "        # print(f\"Child Q {child._rewards}\")\n",
    "        # print(f\"Child N {child._number_of_visits}\")\n",
    "        # print(f\"Parent Q {parent._rewards}\")\n",
    "        # print(f\"Parent Q {parent._number_of_visits}\")\n",
    "        ucb = child._rewards / child._number_of_visits + c * sqrt(\n",
    "            log(parent._number_of_visits) / child._number_of_visits\n",
    "        )\n",
    "        if ucb > max:\n",
    "            max = ucb\n",
    "            result = child\n",
    "\n",
    "    return result\n",
    "\n",
    "\n",
    "def get_available_actions(cube: Cube, discovered):\n",
    "    return [i for i in Move if cube.move(i).hash() not in discovered]\n",
    "\n",
    "def print_tree(tree: Node, indent = 0):\n",
    "    if not tree:\n",
    "        return\n",
    "    tab = \"\".join(\" \" * indent)\n",
    "    print(\"%sN = %d, Q = %d\" % (tab, tree._number_of_visits, tree._rewards))\n",
    "    for a in tree.children:\n",
    "        print(\"%s %d ==> \" % (tab, a._number_of_visits))\n",
    "        print_tree(a, indent + 3)\n",
    "\n",
    "def monte_carlo(cube: Cube, budget: int, C: float, h) -> Cube:\n",
    "    # DACĂ există un arbore construit anterior ȘI\n",
    "    #   acesta are un copil ce corespunde ultimei acțiuni a adversarului,\n",
    "    # ATUNCI acel copil va deveni nodul de început pentru algoritm.\n",
    "    # ALTFEL, arborele de start este un nod gol, corespunzator adversarului (eu sunt la mutare si urmeaza\n",
    "    # sa creez un nod copil al nodului radacina).\n",
    "\n",
    "    # {'N': 7, 'Q': 2.5, 'parent': None, 'actions': {0: {'N': 3, ...}, 1: {'N': 4, ...}}}\n",
    "\n",
    "    # ---------------------------------------------------------------\n",
    "\n",
    "\n",
    "    tree = Node(cube)\n",
    "    discovered = {cube.hash(): True}\n",
    "    print(budget)\n",
    "    print(C)\n",
    "    for _ in range(budget):\n",
    "        # Punctul de start al simulării va fi rădăcina de start\n",
    "        node = tree\n",
    "        # TODO <4>\n",
    "        # Coborâm în arbore până când ajungem la o stare finală\n",
    "        # sau la un nod cu acțiuni neexplorate.\n",
    "        # Variabilele state și node se 'mută' împreună.\n",
    "\n",
    "        while not node.is_final() and node.is_fully_expanded():\n",
    "            node = select_move(node, C)\n",
    "\n",
    "        if node.is_final():\n",
    "            return node.cube\n",
    "        # ---------------------------------------------------------------\n",
    "        if not node.is_final():\n",
    "            move = np.random.choice(node._untried_actions)\n",
    "            new_cube = node.cube.move(move)\n",
    "\n",
    "            node._untried_actions.remove(move)\n",
    "            node._tried_actions.append(move)\n",
    "            # while new_cube.hash() in discovered and node._untried_actions:\n",
    "            #     move = np.random.choice(node._untried_actions)\n",
    "            #     new_cube = node.cube.move(move)\n",
    "\n",
    "            #     node._untried_actions.remove(move)\n",
    "            #     node._tried_actions.append(move)\n",
    "            # discovered[node.cube.hash()] = True\n",
    "            child = Node(new_cube, node, move)\n",
    "            node.children.append(child)\n",
    "            node = child\n",
    "\n",
    "\n",
    "        # ---------------------------------------------------------------\n",
    "\n",
    "        # TODO <6>\n",
    "        # Se simulează o desfășurare a jocului până la ajungerea într-o\n",
    "        # starea finală. Se evaluează recompensa în acea stare.\\\n",
    "        timeout = 14\n",
    "\n",
    "        curr_cube = node.cube\n",
    "        while not numpy.array_equal(curr_cube.state, curr_cube.goal_state) and timeout > 0:\n",
    "            moves = list(Move)\n",
    "            # new_moves = [m for m in moves if not discovered.get(curr_cube.move(m).hash(), False)]\n",
    "            # if not new_moves:\n",
    "            #     break\n",
    "            curr_cube = curr_cube.move(choice(moves))\n",
    "            timeout -= 1\n",
    "\n",
    "        if numpy.array_equal(curr_cube.state, curr_cube.goal_state):\n",
    "            reward = 24\n",
    "            return curr_cube\n",
    "        else:\n",
    "            reward = 24 - h(curr_cube)\n",
    "        # ---------------------------------------------------------------\n",
    "\n",
    "        while node is not None:\n",
    "            node._number_of_visits += 1\n",
    "            node._rewards += reward\n",
    "            node = node.parent\n",
    "        # ---------------------------------------------------------------\n",
    "\n",
    "    return cube"
   ]
  },
  {
   "cell_type": "code",
   "execution_count": 251,
   "metadata": {},
   "outputs": [
    {
     "data": {
      "application/vnd.jupyter.widget-view+json": {
       "model_id": "7c299f80bb9f43a7b101ba60366ea22b",
       "version_major": 2,
       "version_minor": 0
      },
      "image/png": "[encoded data removed]",
      "text/html": [
       "\n",
       "            <div style=\"display: inline-block;\">\n",
       "                <div class=\"jupyter-widgets widget-label\" style=\"text-align: center;\">\n",
       "                    Figure\n",
       "                </div>\n",
       "                <img src='data:image/png;base64,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' width=700.0/>\n",
       "            </div>\n",
       "        "
      ],
      "text/plain": [
       "Canvas(toolbar=Toolbar(toolitems=[('Home', 'Reset original view', 'home', 'home'), ('Back', 'Back to previous …"
      ]
     },
     "metadata": {},
     "output_type": "display_data"
    },
    {
     "name": "stdout",
     "output_type": "stream",
     "text": [
      "20000\n",
      "0.1\n"
     ]
    },
    {
     "data": {
      "application/vnd.jupyter.widget-view+json": {
       "model_id": "01076e33e54a403b986c7b9c31045ff5",
       "version_major": 2,
       "version_minor": 0
      },
      "image/png": "[encoded data removed]",
      "text/html": [
       "\n",
       "            <div style=\"display: inline-block;\">\n",
       "                <div class=\"jupyter-widgets widget-label\" style=\"text-align: center;\">\n",
       "                    Figure\n",
       "                </div>\n",
       "                <img src='data:image/png;base64,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' width=700.0/>\n",
       "            </div>\n",
       "        "
      ],
      "text/plain": [
       "Canvas(toolbar=Toolbar(toolitems=[('Home', 'Reset original view', 'home', 'home'), ('Back', 'Back to previous …"
      ]
     },
     "metadata": {},
     "output_type": "display_data"
    }
   ],
   "source": [
    "input = Cube(scrambled=False)\n",
    "plt.close(\"all\")\n",
    "\n",
    "# input = input.move(Move.R)\n",
    "# input = input.move(Move.Up)\n",
    "# input = input.move(Move.Rp)\n",
    "# input = input.move(Move.Fp)\n",
    "# input = input.move(Move.U)\n",
    "input = Cube(case3)\n",
    "input.render()\n",
    "monte_carlo(input, 20000, 0.1, another_heuristic).render()"
   ]
  },
  {
   "cell_type": "code",
   "execution_count": 133,
   "metadata": {},
   "outputs": [],
   "source": [
    "def create_pattern_database():\n",
    "    PATTERN_DATABASE = {}\n",
    "    cube = Cube(scrambled=False)\n",
    "    PATTERN_DATABASE[cube.hash()] = 0\n",
    "\n",
    "    queue = [cube]\n",
    "    for distance in range(1, 8):\n",
    "        for _ in range(6 ** (distance - 1)):\n",
    "            init = queue.pop(0)\n",
    "            for m in Move:\n",
    "                new_cube = init.move(m)\n",
    "                queue.append(new_cube)\n",
    "                if new_cube.hash() not in PATTERN_DATABASE:\n",
    "                    PATTERN_DATABASE[new_cube.hash()] = distance\n",
    "    return PATTERN_DATABASE"
   ]
  },
  {
   "cell_type": "code",
   "execution_count": 134,
   "metadata": {},
   "outputs": [],
   "source": [
    "PATTERN_DATABASE = create_pattern_database()"
   ]
  },
  {
   "cell_type": "code",
   "execution_count": 82,
   "metadata": {},
   "outputs": [],
   "source": [
    "def new_heuristic(cube: Cube):\n",
    "    return PATTERN_DATABASE.get(cube.hash(), heuristic(cube))"
   ]
  },
  {
   "cell_type": "code",
   "execution_count": 91,
   "metadata": {},
   "outputs": [],
   "source": [
    "# Test pattern database\n",
    "\n",
    "ALL_MOVES = list(Move)\n",
    "\n",
    "def test_new_heuristic(moves):\n",
    "    # Since we are using random moves, we might end up with a sequence\n",
    "    # That could be solved in less moves\n",
    "    assert new_heuristic(Cube(moves)) <= len(moves)\n",
    "\n",
    "for _ in range(10):\n",
    "    for distance in range(1, 8):\n",
    "        moves = [choice(ALL_MOVES) for _ in range(distance)]\n",
    "        test_new_heuristic(moves)\n",
    "\n",
    "# Some static test cases\n",
    "assert new_heuristic(Cube('R U')) == 2\n",
    "assert new_heuristic(Cube('R U R')) == 3\n",
    "assert new_heuristic(Cube('R U F R U')) == 5"
   ]
  },
  {
   "cell_type": "code",
   "execution_count": 159,
   "metadata": {},
   "outputs": [],
   "source": [
    "# Run A* with PATTERN heuristic\n",
    "input = Cube(case1)\n",
    "path = astar(input, new_heuristic)"
   ]
  },
  {
   "cell_type": "code",
   "execution_count": 160,
   "metadata": {},
   "outputs": [
    {
     "data": {
      "application/vnd.jupyter.widget-view+json": {
       "model_id": "6b08effa95a14418bc7ecbd1af885046",
       "version_major": 2,
       "version_minor": 0
      },
      "image/png": "[encoded data removed]",
      "text/html": [
       "\n",
       "            <div style=\"display: inline-block;\">\n",
       "                <div class=\"jupyter-widgets widget-label\" style=\"text-align: center;\">\n",
       "                    Figure\n",
       "                </div>\n",
       "                <img src='data:image/png;base64,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' width=700.0/>\n",
       "            </div>\n",
       "        "
      ],
      "text/plain": [
       "Canvas(toolbar=Toolbar(toolitems=[('Home', 'Reset original view', 'home', 'home'), ('Back', 'Back to previous …"
      ]
     },
     "metadata": {},
     "output_type": "display_data"
    }
   ],
   "source": [
    "reconstruct = input.clone()\n",
    "for m in path:\n",
    "    reconstruct = reconstruct.move(m)\n",
    "\n",
    "plt.close(\"all\")\n",
    "reconstruct.render()\n",
    "assert numpy.array_equal(reconstruct.state, input.goal_state)"
   ]
  },
  {
   "cell_type": "code",
   "execution_count": 149,
   "metadata": {},
   "outputs": [
    {
     "ename": "NameError",
     "evalue": "name 'monte_carlo' is not defined",
     "output_type": "error",
     "traceback": [
      "\u001b[0;31m---------------------------------------------------------------------------\u001b[0m",
      "\u001b[0;31mNameError\u001b[0m                                 Traceback (most recent call last)",
      "\u001b[1;32m/home/skemo/Facultate/Anul4/ia/tema1/Solution.ipynb Cell 18\u001b[0m line \u001b[0;36m1\n\u001b[1;32m      <a href='vscode-notebook-cell://wsl%2Bubuntu/home/skemo/Facultate/Anul4/ia/tema1/Solution.ipynb#X16sdnNjb2RlLXJlbW90ZQ%3D%3D?line=3'>4</a>\u001b[0m \u001b[39m# input = input.move(Move.R)\u001b[39;00m\n\u001b[1;32m      <a href='vscode-notebook-cell://wsl%2Bubuntu/home/skemo/Facultate/Anul4/ia/tema1/Solution.ipynb#X16sdnNjb2RlLXJlbW90ZQ%3D%3D?line=4'>5</a>\u001b[0m \u001b[39m# input = input.move(Move.Up)\u001b[39;00m\n\u001b[1;32m      <a href='vscode-notebook-cell://wsl%2Bubuntu/home/skemo/Facultate/Anul4/ia/tema1/Solution.ipynb#X16sdnNjb2RlLXJlbW90ZQ%3D%3D?line=5'>6</a>\u001b[0m \u001b[39m# input = input.move(Move.Rp)\u001b[39;00m\n\u001b[1;32m      <a href='vscode-notebook-cell://wsl%2Bubuntu/home/skemo/Facultate/Anul4/ia/tema1/Solution.ipynb#X16sdnNjb2RlLXJlbW90ZQ%3D%3D?line=6'>7</a>\u001b[0m \u001b[39m# input = input.move(Move.Fp)\u001b[39;00m\n\u001b[1;32m      <a href='vscode-notebook-cell://wsl%2Bubuntu/home/skemo/Facultate/Anul4/ia/tema1/Solution.ipynb#X16sdnNjb2RlLXJlbW90ZQ%3D%3D?line=7'>8</a>\u001b[0m \u001b[39m# input = input.move(Move.U)\u001b[39;00m\n\u001b[1;32m      <a href='vscode-notebook-cell://wsl%2Bubuntu/home/skemo/Facultate/Anul4/ia/tema1/Solution.ipynb#X16sdnNjb2RlLXJlbW90ZQ%3D%3D?line=8'>9</a>\u001b[0m \u001b[39minput\u001b[39m \u001b[39m=\u001b[39m Cube(case4)\n\u001b[0;32m---> <a href='vscode-notebook-cell://wsl%2Bubuntu/home/skemo/Facultate/Anul4/ia/tema1/Solution.ipynb#X16sdnNjb2RlLXJlbW90ZQ%3D%3D?line=9'>10</a>\u001b[0m monte_carlo(\u001b[39minput\u001b[39m, \u001b[39m20000\u001b[39m, \u001b[39m0.1\u001b[39m, new_heuristic)\u001b[39m.\u001b[39mrender()\n",
      "\u001b[0;31mNameError\u001b[0m: name 'monte_carlo' is not defined"
     ]
    }
   ],
   "source": [
    "# input = Cube(scrambled=False)\n",
    "plt.close(\"all\")\n",
    "\n",
    "# input = input.move(Move.R)\n",
    "# input = input.move(Move.Up)\n",
    "# input = input.move(Move.Rp)\n",
    "# input = input.move(Move.Fp)\n",
    "# input = input.move(Move.U)\n",
    "input = Cube(case4)\n",
    "monte_carlo(input, 20000, 0.1, new_heuristic).render()"
   ]
  }
 ],
 "metadata": {
  "kernelspec": {
   "display_name": "Python 3",
   "language": "python",
   "name": "python3"
  },
  "language_info": {
   "codemirror_mode": {
    "name": "ipython",
    "version": 3
   },
   "file_extension": ".py",
   "mimetype": "text/x-python",
   "name": "python",
   "nbconvert_exporter": "python",
   "pygments_lexer": "ipython3",
   "version": "3.10.12"
  }
 },
 "nbformat": 4,
 "nbformat_minor": 2
}
